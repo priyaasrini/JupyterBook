{
 "cells": [
  {
   "cell_type": "markdown",
   "metadata": {},
   "source": [
    "# Example notebook\n",
    "\n",
    "There is a lot more that you can do with outputs (such as including interactive outputs)\n",
    "with your book. For more information about this, see [the Jupyter Book documentation](https://jupyterbook.org)"
   ]
  },
  {
   "cell_type": "markdown",
   "metadata": {},
   "source": [
    "<script type=\"text/x-thebe-config\">\n",
    "    {\n",
    "        requestKernel: true,\n",
    "        binderOptions: {\n",
    "            repo: \"executablebooks/jupyter-book\",\n",
    "            ref: \"master\",\n",
    "        },\n",
    "        codeMirrorConfig: {\n",
    "            theme: \"abcdef\",\n",
    "            mode: \"python\"\n",
    "        },\n",
    "        kernelOptions: {\n",
    "            name: \"python3\",\n",
    "            path: \"./interactive\"\n",
    "        },\n",
    "        predefinedOutput: true\n",
    "    }\n",
    "</script>\n",
    "    <script>kernelName = 'python3'</script>"
   ]
  },
  {
   "cell_type": "code",
   "execution_count": 1,
   "metadata": {
    "tags": [
     "thebe-init",
     "hide-input"
    ],
    "vscode": {
     "languageId": "plaintext"
    }
   },
   "outputs": [],
   "source": [
    "my_hidden_variable = 'wow, it worked!'"
   ]
  },
  {
   "cell_type": "code",
   "execution_count": 2,
   "metadata": {
    "vscode": {
     "languageId": "plaintext"
    }
   },
   "outputs": [
    {
     "name": "stdout",
     "output_type": "stream",
     "text": [
      "wow, it worked!\n"
     ]
    }
   ],
   "source": [
    "# The variable for this is defined in the cell above!\n",
    "print(my_hidden_variable)"
   ]
  }
 ],
 "metadata": {
  "kernelspec": {
   "display_name": "Python 3",
   "language": "python",
   "name": "python3"
  },
  "language_info": {
   "codemirror_mode": {
    "name": "ipython",
    "version": 3
   },
   "file_extension": ".py",
   "mimetype": "text/x-python",
   "name": "python",
   "nbconvert_exporter": "python",
   "pygments_lexer": "ipython3",
   "version": "3.11.5"
  },
  "widgets": {
   "application/vnd.jupyter.widget-state+json": {
    "state": {},
    "version_major": 2,
    "version_minor": 0
   }
  }
 },
 "nbformat": 4,
 "nbformat_minor": 4
}